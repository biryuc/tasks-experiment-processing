{
 "cells": [
  {
   "cell_type": "markdown",
   "metadata": {},
   "source": [
    "**Вариант 1:** функция 1, альтернативный вариант 1 (выделение главной части)\n",
    "\n",
    "Expected result (from table): 432.5 ± 2.8"
   ]
  },
  {
   "cell_type": "code",
   "execution_count": 2,
   "metadata": {},
   "outputs": [
    {
     "name": "stdout",
     "output_type": "stream",
     "text": [
      "Welcome to JupyROOT 6.18/04\n"
     ]
    }
   ],
   "source": [
    "import ROOT\n",
    "import math"
   ]
  },
  {
   "cell_type": "code",
   "execution_count": 3,
   "metadata": {},
   "outputs": [],
   "source": [
    "canvas = ROOT.TCanvas()"
   ]
  },
  {
   "cell_type": "markdown",
   "metadata": {},
   "source": [
    "### Function\n",
    "Limits:"
   ]
  },
  {
   "cell_type": "code",
   "execution_count": 4,
   "metadata": {},
   "outputs": [],
   "source": [
    "ax = 0.01\n",
    "bx = 1.0\n",
    "\n",
    "ay = 0.0\n",
    "by = 1.0"
   ]
  },
  {
   "cell_type": "markdown",
   "metadata": {},
   "source": [
    "Define function:"
   ]
  },
  {
   "cell_type": "code",
   "execution_count": 5,
   "metadata": {},
   "outputs": [],
   "source": [
    "def myfunc(var, p):\n",
    "    x = var[0]\n",
    "    y = var[1]\n",
    "    a = p[0]\n",
    "    return a/(x*x*(y + 0.5*math.sin(x)))"
   ]
  },
  {
   "cell_type": "code",
   "execution_count": 6,
   "metadata": {},
   "outputs": [],
   "source": [
    "func = ROOT.TF2(\"func\", myfunc, ax, bx, ay, by, 1)\n",
    "#npar = 1"
   ]
  },
  {
   "cell_type": "code",
   "execution_count": 7,
   "metadata": {},
   "outputs": [
    {
     "data": {
      "text/plain": [
       "1.0"
      ]
     },
     "execution_count": 7,
     "metadata": {},
     "output_type": "execute_result"
    }
   ],
   "source": [
    "func.SetParameter(0, 1)\n",
    "func.GetParameter(0)"
   ]
  },
  {
   "cell_type": "code",
   "execution_count": 8,
   "metadata": {},
   "outputs": [
    {
     "data": {
      "image/png": "[encoded data removed]",
      "text/plain": [
       "<IPython.core.display.Image object>"
      ]
     },
     "metadata": {},
     "output_type": "display_data"
    }
   ],
   "source": [
    "func.Draw(\"surf1\")\n",
    "canvas.Draw()"
   ]
  },
  {
   "cell_type": "code",
   "execution_count": 9,
   "metadata": {},
   "outputs": [
    {
     "data": {
      "text/plain": [
       "2000033.3337222263"
      ]
     },
     "execution_count": 9,
     "metadata": {},
     "output_type": "execute_result"
    }
   ],
   "source": [
    "func(ax, ay)"
   ]
  },
  {
   "cell_type": "markdown",
   "metadata": {},
   "source": [
    "### Average method"
   ]
  },
  {
   "cell_type": "code",
   "execution_count": 215,
   "metadata": {},
   "outputs": [
    {
     "name": "stdout",
     "output_type": "stream",
     "text": [
      "1 integral: 428.90836604619693 ;  error: 150.7171256994331\n",
      "   integral for 1 iterations: 428.90836604619693 ;  error: 150.7171256994331 \n",
      "\n",
      "2 integral: 276.6092040300276 ;  error: 57.27969815757794\n",
      "   integral for 2 iterations: 352.7587850381123 ;  error: 80.63531068566886 \n",
      "\n",
      "3 integral: 772.534073462013 ;  error: 232.91871852956234\n",
      "   integral for 3 iterations: 492.68388117941254 ;  error: 94.50268482613589 \n",
      "\n",
      "4 integral: 476.27082417797857 ;  error: 108.24604703052907\n",
      "   integral for 4 iterations: 488.58061692905403 ;  error: 75.86757611671034 \n",
      "\n",
      "5 integral: 359.61719764683033 ;  error: 116.5790039743164\n",
      "   integral for 5 iterations: 462.7879330726093 ;  error: 65.02251767246526 \n",
      "\n",
      "6 integral: 331.94952267875095 ;  error: 81.79323295861208\n",
      "   integral for 6 iterations: 440.98153134029957 ;  error: 55.87749339307885 \n",
      "\n",
      "7 integral: 168.95839284810583 ;  error: 29.23923840436379\n",
      "   integral for 7 iterations: 402.1210829842719 ;  error: 48.09025365921743 \n",
      "\n",
      "8 integral: 854.3251380348189 ;  error: 390.8141775150279\n",
      "   integral for 8 iterations: 458.6465898655902 ;  error: 64.497529161021 \n",
      "\n",
      "9 integral: 358.7314353317424 ;  error: 86.13066311064169\n",
      "   integral for 9 iterations: 447.544906028496 ;  error: 58.12533988575953 \n",
      "\n",
      "10 integral: 357.941699530488 ;  error: 91.44982284291406\n",
      "   integral for 10 iterations: 438.5845853786952 ;  error: 53.10680389957525 \n",
      "\n"
     ]
    }
   ],
   "source": [
    "sumf = 0 #total sum of function values*(bx - ax)*(by - ay)\n",
    "sumf2 = 0 #total sum of function values*(bx - ax)*(by - ay) squared\n",
    "\n",
    "number = 1000\n",
    "\n",
    "for j in range (1, 11):\n",
    "    \n",
    "    sumfj = 0 #function values*(bx - ax)*(by - ay) sum in j iteration\n",
    "    sumfj2 = 0 #total sum of function values squared in j iteration\n",
    "    \n",
    "    for i in range (0, number):\n",
    "        \n",
    "        xi = ROOT.gRandom.Uniform(ax, bx)\n",
    "        yi = ROOT.gRandom.Uniform(ay, by)\n",
    "        fi = func(xi, yi)\n",
    "        \n",
    "        sumfj = sumfj + fi*(bx - ax)*(by - ay)\n",
    "        sumfj2 = sumfj2 + (fi*(bx - ax)*(by - ay))**2\n",
    "    \n",
    "    sumf = sumf + sumfj\n",
    "    sumf2 = sumf2 + sumfj2\n",
    "    \n",
    "    integralj = sumfj/number #integral value in j iteration\n",
    "    integral = sumf/(j*number) #total integral value after j iterations\n",
    "    \n",
    "    \n",
    "    Dj = sumfj2/number - (integralj)**2\n",
    "    errorj = math.sqrt(Dj/number) #error in j iteration\n",
    "    \n",
    "    D = sumf2/(j*number) - (integral)**2\n",
    "    error = math.sqrt(D/(j*number)) #total error after j iterations\n",
    "    \n",
    "    \n",
    "    print(j, \"integral:\", integralj, \";  error:\", errorj)\n",
    "    print(\"   integral for\", j, \"iterations:\", integral, \";  error:\", error, \"\\n\")"
   ]
  },
  {
   "cell_type": "code",
   "execution_count": 216,
   "metadata": {},
   "outputs": [
    {
     "name": "stdout",
     "output_type": "stream",
     "text": [
      "Total integral value:  438.5845853786952\n",
      "Total error:  53.10680389957525\n"
     ]
    }
   ],
   "source": [
    "print(\"Total integral value: \", integral)\n",
    "print(\"Total error: \", error)"
   ]
  },
  {
   "cell_type": "markdown",
   "metadata": {},
   "source": [
    "### Main part method"
   ]
  },
  {
   "cell_type": "markdown",
   "metadata": {},
   "source": [
    "Split initial function 1/x\\*x*(y + 0.5sin(x)) into sum of two functions: \"analytical\"(f1) and second(f2).\n",
    "- \"Analytical\": f1 = 1/x\\*x*(y + const). It can be integrated analytical (with pen and paper). Formula defined below. \n",
    "- f2 integrated by \"average method\", as above. \n",
    "\n",
    "Results are summed. Error calculated only for \"second\" integral. "
   ]
  },
  {
   "cell_type": "code",
   "execution_count": 212,
   "metadata": {},
   "outputs": [],
   "source": [
    "# constant used in \"analytical\" part \n",
    "c = 0.01"
   ]
  },
  {
   "cell_type": "code",
   "execution_count": 205,
   "metadata": {},
   "outputs": [],
   "source": [
    "# formula for integrated \"analytical\" part\n",
    "def f1_integral(ax, bx, ay, by):\n",
    "    result = -1*(1/bx - 1/ax)*math.log((by + c)/(ay + c))\n",
    "    return result"
   ]
  },
  {
   "cell_type": "code",
   "execution_count": 206,
   "metadata": {},
   "outputs": [
    {
     "data": {
      "text/plain": [
       "456.8969311672847"
      ]
     },
     "execution_count": 206,
     "metadata": {},
     "output_type": "execute_result"
    }
   ],
   "source": [
    "f1_integral(ax, bx, ay, by)"
   ]
  },
  {
   "cell_type": "code",
   "execution_count": 217,
   "metadata": {},
   "outputs": [],
   "source": [
    "# formula for second part f2\n",
    "def func2(var, p):\n",
    "    x = var[0]\n",
    "    y = var[1]\n",
    "    a = p[0]\n",
    "    return a*(c - 0.5*math.sin(x))/((x**2)*(y + 0.5*math.sin(x))*(y + c))"
   ]
  },
  {
   "cell_type": "code",
   "execution_count": 199,
   "metadata": {},
   "outputs": [],
   "source": [
    "f2 = ROOT.TF2(\"f2\", func2, ax, bx, ay, by, 1)"
   ]
  },
  {
   "cell_type": "code",
   "execution_count": 200,
   "metadata": {},
   "outputs": [],
   "source": [
    "f2.SetParameter(0, 1)"
   ]
  },
  {
   "cell_type": "code",
   "execution_count": 207,
   "metadata": {
    "scrolled": true
   },
   "outputs": [
    {
     "data": {
      "image/png": "[encoded data removed]",
      "text/plain": [
       "<IPython.core.display.Image object>"
      ]
     },
     "metadata": {},
     "output_type": "display_data"
    }
   ],
   "source": [
    "f2.Draw(\"surf1\")\n",
    "canvas.Draw()"
   ]
  },
  {
   "cell_type": "code",
   "execution_count": 211,
   "metadata": {},
   "outputs": [
    {
     "name": "stdout",
     "output_type": "stream",
     "text": [
      "1 integral: 441.51210248385865 ;  error: 17.656377988661824\n",
      "   integral for 1 iterations: 441.51210248385865 ;  error: 17.656377988661824 \n",
      "\n",
      "2 integral: 412.2303227139194 ;  error: 16.96989896180315\n",
      "   integral for 2 iterations: 426.87121259888903 ;  error: 12.24901899914394 \n",
      "\n",
      "3 integral: 477.1685003766006 ;  error: 72.15603128516277\n",
      "   integral for 3 iterations: 443.63697519145956 ;  error: 25.40414065410687 \n",
      "\n",
      "4 integral: 416.0924539260184 ;  error: 8.078368101297196\n",
      "   integral for 4 iterations: 436.75084487509923 ;  error: 19.16077098858445 \n",
      "\n",
      "5 integral: 390.0875059132595 ;  error: 23.2201900690424\n",
      "   integral for 5 iterations: 427.4181770827313 ;  error: 16.01884080529747 \n",
      "\n",
      "6 integral: 429.4804763300024 ;  error: 6.462978738382189\n",
      "   integral for 6 iterations: 427.76189362394314 ;  error: 13.392426505140449 \n",
      "\n",
      "7 integral: 434.38304627516305 ;  error: 24.914209967968738\n",
      "   integral for 7 iterations: 428.7077725741174 ;  error: 12.018362305004013 \n",
      "\n",
      "8 integral: 401.2031524587217 ;  error: 14.248968908033232\n",
      "   integral for 8 iterations: 425.26969505969294 ;  error: 10.66632086308682 \n",
      "\n",
      "9 integral: 551.0699157293532 ;  error: 120.95343262468793\n",
      "   integral for 9 iterations: 439.2474973563219 ;  error: 16.452365133316942 \n",
      "\n",
      "10 integral: 430.7610913748547 ;  error: 30.590160459059533\n",
      "   integral for 10 iterations: 438.39885675817516 ;  error: 15.11983086246915 \n",
      "\n"
     ]
    }
   ],
   "source": [
    "f2_sumf = 0 #total sum of f2 values*(bx - ax)*(by - ay)\n",
    "f2_sumf2 = 0 #total sum of f2 values*(bx - ax)*(by - ay) squared\n",
    "\n",
    "number = 1000\n",
    "\n",
    "for j in range (1, 11):\n",
    "    \n",
    "    f2_sumfj = 0 #f2 values*(bx - ax)*(by - ay) sum in j iteration\n",
    "    f2_sumfj2 = 0 #total sum of f2 values squared in j iteration\n",
    "    \n",
    "    for i in range (0, number):\n",
    "        \n",
    "        xi = ROOT.gRandom.Uniform(ax, bx)\n",
    "        yi = ROOT.gRandom.Uniform(ay, by)\n",
    "        fi = f2(xi, yi)\n",
    "        \n",
    "        f2_sumfj = f2_sumfj + fi*(bx - ax)*(by - ay)\n",
    "        f2_sumfj2 = f2_sumfj2 + (fi*(bx - ax)*(by - ay))**2\n",
    "    \n",
    "    f2_sumf = f2_sumf + f2_sumfj\n",
    "    f2_sumf2 = f2_sumf2 + f2_sumfj2\n",
    "    \n",
    "    integralj = f1_integral(ax, bx, ay, by) + f2_sumfj/number #integral value in j iteration\n",
    "    integral = f1_integral(ax, bx, ay, by) + f2_sumf/(j*number) #total integral value after j iterations\n",
    "    \n",
    "    \n",
    "    Dj = f2_sumfj2/number - (f2_sumfj/number)**2\n",
    "    errorj = math.sqrt(Dj/number) #error in j iteration\n",
    "    \n",
    "    D = f2_sumf2/(j*number) - (f2_sumf/(j*number))**2\n",
    "    error = math.sqrt(D/(j*number)) #total error after j iterations\n",
    "    \n",
    "    \n",
    "    print(j, \"integral:\", integralj, \";  error:\", errorj)\n",
    "    print(\"   integral for\", j, \"iterations:\", integral, \";  error:\", error, \"\\n\")"
   ]
  },
  {
   "cell_type": "code",
   "execution_count": 214,
   "metadata": {},
   "outputs": [
    {
     "name": "stdout",
     "output_type": "stream",
     "text": [
      "Total integral value:  438.39885675817516\n",
      "Total error:  15.11983086246915\n"
     ]
    }
   ],
   "source": [
    "print(\"Total integral value: \", integral)\n",
    "print(\"Total error: \", error)"
   ]
  },
  {
   "cell_type": "code",
   "execution_count": null,
   "metadata": {},
   "outputs": [],
   "source": []
  }
 ],
 "metadata": {
  "kernelspec": {
   "display_name": "Python 3",
   "language": "python",
   "name": "python3"
  },
  "language_info": {
   "codemirror_mode": {
    "name": "ipython",
    "version": 3
   },
   "file_extension": ".py",
   "mimetype": "text/x-python",
   "name": "python",
   "nbconvert_exporter": "python",
   "pygments_lexer": "ipython3",
   "version": "3.6.8"
  }
 },
 "nbformat": 4,
 "nbformat_minor": 4
}
