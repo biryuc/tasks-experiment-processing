{
 "cells": [
  {
   "cell_type": "code",
   "execution_count": 1,
   "metadata": {},
   "outputs": [
    {
     "name": "stdout",
     "output_type": "stream",
     "text": [
      "Welcome to JupyROOT 6.18/04\n"
     ]
    }
   ],
   "source": [
    "import ROOT"
   ]
  },
  {
   "cell_type": "code",
   "execution_count": 2,
   "metadata": {},
   "outputs": [],
   "source": [
    "canvas = ROOT.TCanvas()"
   ]
  },
  {
   "cell_type": "markdown",
   "metadata": {},
   "source": [
    "**Create TGraphErrors with data**"
   ]
  },
  {
   "cell_type": "code",
   "execution_count": 3,
   "metadata": {},
   "outputs": [
    {
     "data": {
      "image/png": "[encoded data removed]",
      "text/plain": [
       "<IPython.core.display.Image object>"
      ]
     },
     "metadata": {},
     "output_type": "display_data"
    }
   ],
   "source": [
    "graph = ROOT.TGraphErrors(\"variant1.txt\")\n",
    "graph.Draw()\n",
    "canvas.Draw()"
   ]
  },
  {
   "cell_type": "markdown",
   "metadata": {},
   "source": [
    "Initial parameters (estimation from the graph)"
   ]
  },
  {
   "cell_type": "code",
   "execution_count": 4,
   "metadata": {},
   "outputs": [],
   "source": [
    "A0 = 650\n",
    "M0 = 1.017\n",
    "G0 = 0.005"
   ]
  },
  {
   "cell_type": "markdown",
   "metadata": {},
   "source": [
    "**Create function for fitting** "
   ]
  },
  {
   "cell_type": "code",
   "execution_count": 5,
   "metadata": {},
   "outputs": [],
   "source": [
    "def func(xx, pp):\n",
    "    A = pp[0]\n",
    "    M = pp[1]\n",
    "    G = pp[2]\n",
    "    E = xx[0]\n",
    "    return (A*(G/2)**2) / ((E - M)**2 + (G/2)**2)"
   ]
  },
  {
   "cell_type": "code",
   "execution_count": 6,
   "metadata": {},
   "outputs": [],
   "source": [
    "p_func = ROOT.TF1(\"p_function\", func, 0.9, 1.1, 3)"
   ]
  },
  {
   "cell_type": "code",
   "execution_count": 7,
   "metadata": {},
   "outputs": [],
   "source": [
    "p_func.SetParameter(0, A0)\n",
    "p_func.SetParameter(1, M0)\n",
    "p_func.SetParameter(2, G0)"
   ]
  },
  {
   "cell_type": "code",
   "execution_count": 8,
   "metadata": {},
   "outputs": [
    {
     "data": {
      "image/png": "[encoded data removed]",
      "text/plain": [
       "<IPython.core.display.Image object>"
      ]
     },
     "metadata": {},
     "output_type": "display_data"
    }
   ],
   "source": [
    "p_func.Draw()\n",
    "canvas.Draw()"
   ]
  },
  {
   "cell_type": "markdown",
   "metadata": {},
   "source": [
    "**Fit**"
   ]
  },
  {
   "cell_type": "code",
   "execution_count": 9,
   "metadata": {},
   "outputs": [
    {
     "name": "stdout",
     "output_type": "stream",
     "text": [
      " FCN=801.248 FROM MIGRAD    STATUS=CONVERGED      82 CALLS          83 TOTAL\n",
      "                     EDM=8.9738e-10    STRATEGY= 1      ERROR MATRIX ACCURATE \n",
      "  EXT PARAMETER                                   STEP         FIRST   \n",
      "  NO.   NAME      VALUE            ERROR          SIZE      DERIVATIVE \n",
      "   1  p0           6.44647e+02   9.91980e+00   8.26113e-02   7.65238e-07\n",
      "   2  p1           1.01858e+00   2.90706e-05   4.85697e-07  -1.44884e+00\n",
      "   3  p2           4.69357e-03   8.08949e-05   6.60588e-07   6.69402e-02\n"
     ]
    }
   ],
   "source": [
    "fit_result = graph.Fit(p_func, \"S\") #\"S\" for saving result in TFitResultPtr"
   ]
  },
  {
   "cell_type": "code",
   "execution_count": 10,
   "metadata": {},
   "outputs": [
    {
     "data": {
      "image/png": "[encoded data removed]",
      "text/plain": [
       "<IPython.core.display.Image object>"
      ]
     },
     "metadata": {},
     "output_type": "display_data"
    }
   ],
   "source": [
    "graph.Draw()\n",
    "canvas.Draw()"
   ]
  },
  {
   "cell_type": "markdown",
   "metadata": {},
   "source": [
    "**Get parameters**"
   ]
  },
  {
   "cell_type": "markdown",
   "metadata": {},
   "source": [
    "*Double_t Prob(Double_t chi2, Int_t ndf)* \n",
    "\n",
    "Computation of the probability for a certain Chi-squared (chi2)\n",
    "and number of degrees of freedom (ndf). Represents the probability that the observed Chi-squared for a correct model should be less than the value chi2. \n",
    "\n",
    "*(From doucumentation)*"
   ]
  },
  {
   "cell_type": "code",
   "execution_count": 11,
   "metadata": {},
   "outputs": [],
   "source": [
    "A_fit = fit_result.Parameter(0)\n",
    "A_err = fit_result.ParError(0)"
   ]
  },
  {
   "cell_type": "code",
   "execution_count": 12,
   "metadata": {},
   "outputs": [
    {
     "name": "stdout",
     "output_type": "stream",
     "text": [
      "'A' value fom fit: 644.6474067713984 \n",
      "'A' error from fit: 9.919800344173694\n"
     ]
    }
   ],
   "source": [
    "print(\"'A' value fom fit:\", fit_result.Parameter(0), \n",
    "      \"\\n'A' error from fit:\", fit_result.ParError(0))"
   ]
  },
  {
   "cell_type": "code",
   "execution_count": 13,
   "metadata": {},
   "outputs": [
    {
     "name": "stdout",
     "output_type": "stream",
     "text": [
      "'M' value fom fit: 1.0185810595915086 \n",
      "'M' error from fit: 2.9070633956009275e-05\n"
     ]
    }
   ],
   "source": [
    "print(\"'M' value fom fit:\", fit_result.Parameter(1), \n",
    "      \"\\n'M' error from fit:\", fit_result.ParError(1))"
   ]
  },
  {
   "cell_type": "code",
   "execution_count": 14,
   "metadata": {},
   "outputs": [
    {
     "name": "stdout",
     "output_type": "stream",
     "text": [
      "644.6474067713984 9.919800344173694\n"
     ]
    }
   ],
   "source": [
    "print(fit_result.Value(0), fit_result.Error(0))"
   ]
  },
  {
   "cell_type": "code",
   "execution_count": 15,
   "metadata": {},
   "outputs": [
    {
     "name": "stdout",
     "output_type": "stream",
     "text": [
      "'G' value fom fit: 0.004693565712644669 \n",
      "'G' error from fit: 8.089488153166807e-05\n"
     ]
    }
   ],
   "source": [
    "print(\"'G' value fom fit:\", fit_result.Parameter(2), \n",
    "      \"\\n'G' error from fit:\", fit_result.ParError(2))"
   ]
  },
  {
   "cell_type": "code",
   "execution_count": 16,
   "metadata": {},
   "outputs": [
    {
     "name": "stdout",
     "output_type": "stream",
     "text": [
      "Chi2/ndf: 100.15596506306379\n"
     ]
    }
   ],
   "source": [
    "print(\"Chi2/ndf:\", fit_result.Chi2()/fit_result.Ndf())"
   ]
  },
  {
   "cell_type": "code",
   "execution_count": 17,
   "metadata": {},
   "outputs": [
    {
     "name": "stdout",
     "output_type": "stream",
     "text": [
      "Probability: 1.1081116791258045e-167\n"
     ]
    }
   ],
   "source": [
    "probability = ROOT.TMath.Prob(fit_result.Chi2(), fit_result.Ndf())\n",
    "print(\"Probability:\", probability)"
   ]
  },
  {
   "cell_type": "markdown",
   "metadata": {},
   "source": [
    "Correlation"
   ]
  },
  {
   "cell_type": "code",
   "execution_count": 18,
   "metadata": {},
   "outputs": [
    {
     "name": "stdout",
     "output_type": "stream",
     "text": [
      "\n",
      "3x3 matrix is as follows\n",
      "\n",
      "     |      0    |      1    |      2    |\n",
      "--------------------------------------------\n",
      "   0 |          1      0.1987      -0.798 \n",
      "   1 |     0.1987           1     -0.2774 \n",
      "   2 |     -0.798     -0.2774           1 \n",
      "\n"
     ]
    }
   ],
   "source": [
    "corr_matrix = fit_result.GetCorrelationMatrix()\n",
    "corr_matrix.Print()"
   ]
  },
  {
   "cell_type": "markdown",
   "metadata": {},
   "source": [
    "**Energy scale contribution**"
   ]
  },
  {
   "cell_type": "code",
   "execution_count": 19,
   "metadata": {},
   "outputs": [],
   "source": [
    "A_hist_en = ROOT.TH1F(\"A_energy\", \"A_energy\", 200, 644.6, 644.7)\n",
    "M_hist_en = ROOT.TH1F(\"M_energy\", \"M_energy\", 200, 1.0175, 1.0195)\n",
    "G_hist_en = ROOT.TH1F(\"G_energy\", \"G_energy\", 200, 0.004693, 0.004694)"
   ]
  },
  {
   "cell_type": "code",
   "execution_count": 20,
   "metadata": {},
   "outputs": [],
   "source": [
    "x_arr = graph.GetX()\n",
    "y_arr = graph.GetY()\n",
    "p_func.SetParameter(0, A0)\n",
    "p_func.SetParameter(1, M0)\n",
    "p_func.SetParameter(2, G0)\n",
    "\n",
    "for j in range(1000):\n",
    "    en_graph = ROOT.TGraphErrors()\n",
    "    dE = ROOT.gRandom.Gaus(0, 0.0001) #0.1 MeV (units????) (eV)\n",
    "    for i in range(graph.GetN()):\n",
    "        en_graph.SetPoint(i, x_arr[i] + dE, y_arr[i])\n",
    "        #print(en_graph.GetY()[i])\n",
    "        en_graph.SetPointError(i, graph.GetErrorX(i), graph.GetErrorY(i))\n",
    "    fit = en_graph.Fit(p_func, \"SQ\")\n",
    "    #print(fit.Parameter(0))\n",
    "    A_hist_en.Fill(fit.Parameter(0))\n",
    "    M_hist_en.Fill(fit.Parameter(1))\n",
    "    G_hist_en.Fill(fit.Parameter(2))"
   ]
  },
  {
   "cell_type": "code",
   "execution_count": 21,
   "metadata": {},
   "outputs": [
    {
     "data": {
      "image/png": "[encoded data removed]",
      "text/plain": [
       "<IPython.core.display.Image object>"
      ]
     },
     "metadata": {},
     "output_type": "display_data"
    }
   ],
   "source": [
    "canvas.Clear()\n",
    "A_hist_en.Draw()\n",
    "canvas.Draw()"
   ]
  },
  {
   "cell_type": "code",
   "execution_count": 22,
   "metadata": {},
   "outputs": [
    {
     "data": {
      "image/png": "[encoded data removed]",
      "text/plain": [
       "<IPython.core.display.Image object>"
      ]
     },
     "metadata": {},
     "output_type": "display_data"
    }
   ],
   "source": [
    "M_hist_en.Draw()\n",
    "canvas.Draw()"
   ]
  },
  {
   "cell_type": "code",
   "execution_count": 23,
   "metadata": {},
   "outputs": [
    {
     "data": {
      "image/png": "[encoded data removed]",
      "text/plain": [
       "<IPython.core.display.Image object>"
      ]
     },
     "metadata": {},
     "output_type": "display_data"
    }
   ],
   "source": [
    "G_hist_en.Draw()\n",
    "canvas.Draw()"
   ]
  },
  {
   "cell_type": "markdown",
   "metadata": {},
   "source": [
    "Energy scale contribution: "
   ]
  },
  {
   "cell_type": "code",
   "execution_count": 24,
   "metadata": {},
   "outputs": [
    {
     "name": "stdout",
     "output_type": "stream",
     "text": [
      "A: 0.0011227918418228184 / 9.919800344173694 = 0.00011318693954181045\n",
      "M: 0.00010378444397965444 / 2.9070633956009275e-05 = 3.570078455691912\n",
      "G: 7.110870468465356e-09 / 8.089488153166807e-05 = 8.790260068162224e-05\n"
     ]
    }
   ],
   "source": [
    "print(\"A:\", A_hist_en.GetRMS(), '/', fit_result.ParError(0), '=', A_hist_en.GetRMS()/fit_result.ParError(0))\n",
    "print(\"M:\", M_hist_en.GetRMS(), '/', fit_result.ParError(1), '=', M_hist_en.GetRMS()/fit_result.ParError(1))\n",
    "print(\"G:\", G_hist_en.GetRMS(), '/', fit_result.ParError(2), '=', G_hist_en.GetRMS()/fit_result.ParError(2))"
   ]
  },
  {
   "cell_type": "markdown",
   "metadata": {},
   "source": [
    "**Efficiency**"
   ]
  },
  {
   "cell_type": "code",
   "execution_count": 25,
   "metadata": {
    "scrolled": true
   },
   "outputs": [],
   "source": [
    "A_hist_ef = ROOT.TH1F(\"A_effiency\", \"A_efficiency\", 200, 620, 670)\n",
    "M_hist_ef = ROOT.TH1F(\"M_effiency\", \"M_effiency\", 200, 1.018, 1.019)\n",
    "G_hist_ef = ROOT.TH1F(\"G_effiency\", \"G_effiency\", 200, 0.0045, 0.0049)"
   ]
  },
  {
   "cell_type": "code",
   "execution_count": 26,
   "metadata": {},
   "outputs": [],
   "source": [
    "A_hist_ef.Reset()\n",
    "M_hist_ef.Reset()\n",
    "G_hist_ef.Reset()"
   ]
  },
  {
   "cell_type": "code",
   "execution_count": 27,
   "metadata": {},
   "outputs": [],
   "source": [
    "p_func.SetParameter(0, A0)\n",
    "p_func.SetParameter(1, M0)\n",
    "p_func.SetParameter(2, G0)\n",
    "\n",
    "for j in range(1000):\n",
    "    ef_graph = ROOT.TGraphErrors()\n",
    "    for i in range(graph.GetN()):\n",
    "        err = y_arr[i]*0.01*x_arr[i]/1.02 # units???? (GeV)\n",
    "        s = ROOT.gRandom.Gaus(y_arr[i], err)\n",
    "        ef_graph.SetPoint(i, x_arr[i], s)\n",
    "        ef_graph.SetPointError(i, graph.GetErrorX(i), graph.GetErrorY(i))\n",
    "    fit = ef_graph.Fit(p_func, \"SQ\")\n",
    "    #print(fit.Parameter(0))\n",
    "    A_hist_ef.Fill(fit.Parameter(0))\n",
    "    M_hist_ef.Fill(fit.Parameter(1))\n",
    "    G_hist_ef.Fill(fit.Parameter(2))"
   ]
  },
  {
   "cell_type": "code",
   "execution_count": 28,
   "metadata": {},
   "outputs": [
    {
     "data": {
      "image/png": "[encoded data removed]",
      "text/plain": [
       "<IPython.core.display.Image object>"
      ]
     },
     "metadata": {},
     "output_type": "display_data"
    }
   ],
   "source": [
    "A_hist_ef.Draw()\n",
    "canvas.Draw()"
   ]
  },
  {
   "cell_type": "code",
   "execution_count": 29,
   "metadata": {},
   "outputs": [
    {
     "data": {
      "image/png": "[encoded data removed]",
      "text/plain": [
       "<IPython.core.display.Image object>"
      ]
     },
     "metadata": {},
     "output_type": "display_data"
    }
   ],
   "source": [
    "M_hist_ef.Draw()\n",
    "canvas.Draw()"
   ]
  },
  {
   "cell_type": "code",
   "execution_count": 30,
   "metadata": {
    "scrolled": true
   },
   "outputs": [
    {
     "data": {
      "image/png": "[encoded data removed]",
      "text/plain": [
       "<IPython.core.display.Image object>"
      ]
     },
     "metadata": {},
     "output_type": "display_data"
    }
   ],
   "source": [
    "G_hist_ef.Draw()\n",
    "canvas.Draw()"
   ]
  },
  {
   "cell_type": "code",
   "execution_count": 31,
   "metadata": {},
   "outputs": [
    {
     "name": "stdout",
     "output_type": "stream",
     "text": [
      "A: 5.364080007818186 / 9.919800344173694 = 0.5407447551067628\n",
      "M: 1.0562663700897648e-05 / 2.9070633956009275e-05 = 0.363344800697551\n",
      "G: 3.7987948766746395e-05 / 8.089488153166807e-05 = 0.46959644476239426\n"
     ]
    }
   ],
   "source": [
    "print(\"A:\", A_hist_ef.GetRMS(), '/', fit_result.ParError(0), '=', A_hist_ef.GetRMS()/fit_result.ParError(0))\n",
    "print(\"M:\", M_hist_ef.GetRMS(), '/', fit_result.ParError(1), '=', M_hist_ef.GetRMS()/fit_result.ParError(1))\n",
    "print(\"G:\", G_hist_ef.GetRMS(), '/', fit_result.ParError(2), '=', G_hist_ef.GetRMS()/fit_result.ParError(2))"
   ]
  },
  {
   "cell_type": "markdown",
   "metadata": {},
   "source": [
    "Calculating of errors"
   ]
  },
  {
   "cell_type": "code",
   "execution_count": 32,
   "metadata": {},
   "outputs": [],
   "source": [
    "import math"
   ]
  },
  {
   "cell_type": "markdown",
   "metadata": {},
   "source": [
    "Parameters from initial fit:"
   ]
  },
  {
   "cell_type": "code",
   "execution_count": 33,
   "metadata": {},
   "outputs": [],
   "source": [
    "AF = fit_result.Parameter(0)\n",
    "MF = fit_result.Parameter(1)\n",
    "GF = fit_result.Parameter(2)"
   ]
  },
  {
   "cell_type": "code",
   "execution_count": 76,
   "metadata": {
    "scrolled": true
   },
   "outputs": [],
   "source": [
    "dE = 0.0001"
   ]
  },
  {
   "cell_type": "code",
   "execution_count": 77,
   "metadata": {},
   "outputs": [
    {
     "data": {
      "text/plain": [
       "0.0001"
      ]
     },
     "execution_count": 77,
     "metadata": {},
     "output_type": "execute_result"
    }
   ],
   "source": [
    "dM = dE\n",
    "dM"
   ]
  },
  {
   "cell_type": "code",
   "execution_count": 65,
   "metadata": {},
   "outputs": [
    {
     "data": {
      "text/plain": [
       "0.00010378444397965444"
      ]
     },
     "execution_count": 65,
     "metadata": {},
     "output_type": "execute_result"
    }
   ],
   "source": [
    "M_hist_en.GetRMS()"
   ]
  },
  {
   "cell_type": "markdown",
   "metadata": {},
   "source": [
    "Следовательно для М по оценке 0.0001 = 0.0001 из гистограммы\n",
    "\n",
    "Вклад в ошибку для М от ошибки для эффективности мал (из гистограммы). "
   ]
  },
  {
   "cell_type": "markdown",
   "metadata": {},
   "source": [
    "Ошибка для А: \n",
    "\n",
    "Обозначу $$s_i = s_i0 + \\delta s$$\n",
    "\n",
    "Тогда: \n",
    "$$ s_i = \\frac {(A + \\delta A) \\cdot (\\frac{G}{2})^2} {(E_i - M)^2 + (\\frac{G}{2})^2} $$\n",
    "\n",
    "Отсюда выражаю: \n",
    "$$ \\delta A = \\delta s \\cdot \\frac{(E_i - M)^2 + (\\frac{G}{2})^2}{(\\frac{G}{2})^2}$$"
   ]
  },
  {
   "cell_type": "markdown",
   "metadata": {},
   "source": [
    "Для А по оценке: 5.8 примерно равно 5.4 из гистограммы (по эффективности)\n",
    "\n",
    "Вклад от ошибки энергии мал"
   ]
  },
  {
   "cell_type": "markdown",
   "metadata": {},
   "source": [
    "Обозначу $$s_i = s_i0 + \\delta s$$\n",
    "\n",
    "Тогда: \n",
    "$$ s_i = \\frac {A \\cdot (\\frac{G + \\delta G}{2})^2} {(E_i - M)^2 + (\\frac{G + \\delta G}{2})^2} $$\n",
    "\n",
    "Выражаю: \n",
    "\n",
    "$$\\delta G = 2 \\cdot \\sqrt {\\frac{s_i}{A - s_i}} \\cdot (E_i - M) - G $$"
   ]
  },
  {
   "cell_type": "markdown",
   "metadata": {},
   "source": [
    "Вычисляю $s_i0$ как: \n",
    "$$ s_i0 = \\frac{A \\cdot (\\frac{G}{2})^2}{(E_i - M)^2 + (\\frac{G}{2})^2} $$"
   ]
  },
  {
   "cell_type": "markdown",
   "metadata": {},
   "source": [
    "Вычисляю среднее квадратическое: "
   ]
  },
  {
   "cell_type": "code",
   "execution_count": 74,
   "metadata": {},
   "outputs": [
    {
     "data": {
      "text/plain": [
       "6.408040822207668"
      ]
     },
     "execution_count": 74,
     "metadata": {},
     "output_type": "execute_result"
    }
   ],
   "source": [
    "Asq = 0\n",
    "for i in range(graph.GetN()):\n",
    "    Ei0 = x_arr[i]\n",
    "    si0 = (AF*(GF/2)**2)/((Ei0 - MF)**2 + (GF/2)**2)\n",
    "    ds = 0.01*(Ei0/1.02)*si0\n",
    "    dAi = ds*((Ei0 - MF)**2 + (GF/2)**2)/((GF/2)**2)\n",
    "    Asq += dAi**2\n",
    "Asq = math.sqrt(Asq/graph.GetN())\n",
    "Asq"
   ]
  },
  {
   "cell_type": "code",
   "execution_count": 78,
   "metadata": {},
   "outputs": [
    {
     "data": {
      "text/plain": [
       "5.364080007818186"
      ]
     },
     "execution_count": 78,
     "metadata": {},
     "output_type": "execute_result"
    }
   ],
   "source": [
    "A_hist_ef.GetRMS()"
   ]
  },
  {
   "cell_type": "markdown",
   "metadata": {},
   "source": [
    "Для А по оценке: 6.4 примерно равно 5.4 из гистограммы (по эффективности)\n",
    "\n",
    "Вклад от ошибки энергии мал"
   ]
  },
  {
   "cell_type": "markdown",
   "metadata": {},
   "source": [
    "Через производную:"
   ]
  },
  {
   "cell_type": "markdown",
   "metadata": {},
   "source": [
    "$$\\delta G = \\delta s \\cdot \\frac{1}{(s_i0)^2} \\cdot \\sqrt{\\frac{A - s_i0}{s_i0}} \\cdot (E_i - M)$$"
   ]
  },
  {
   "cell_type": "code",
   "execution_count": 94,
   "metadata": {},
   "outputs": [],
   "source": [
    "Gsq = 0\n",
    "for i in range(graph.GetN()):\n",
    "    Ei0 = x_arr[i]\n",
    "    si0 = (AF*(GF/2)**2)/((Ei0 - MF)**2 + (GF/2)**2)\n",
    "    ds = 0.01*(Ei0/1.02)*si0\n",
    "    dGi = (1/((si0 + ds)**2))*math.sqrt(math.fabs((AF - si0 - ds)/(si0+ds)))*(Ei0 - MF)*ds\n",
    "    Gsq += dGi**2\n",
    "Gsq = math.sqrt(Gsq/graph.GetN()) "
   ]
  },
  {
   "cell_type": "code",
   "execution_count": 102,
   "metadata": {},
   "outputs": [
    {
     "data": {
      "text/plain": [
       "4.782647302441159e-05"
      ]
     },
     "execution_count": 102,
     "metadata": {},
     "output_type": "execute_result"
    }
   ],
   "source": [
    "Gsq"
   ]
  },
  {
   "cell_type": "code",
   "execution_count": 103,
   "metadata": {},
   "outputs": [
    {
     "data": {
      "text/plain": [
       "3.7987948766746395e-05"
      ]
     },
     "execution_count": 103,
     "metadata": {},
     "output_type": "execute_result"
    }
   ],
   "source": [
    "G_hist_ef.GetRMS()"
   ]
  },
  {
   "cell_type": "markdown",
   "metadata": {},
   "source": [
    "Для G из оценки через производную $4.8 \\cdot 10^{-5}$ примерно равно  $3.8 \\cdot 10^{-5}$ из гистограммы"
   ]
  }
 ],
 "metadata": {
  "kernelspec": {
   "display_name": "Python 3",
   "language": "python",
   "name": "python3"
  },
  "language_info": {
   "codemirror_mode": {
    "name": "ipython",
    "version": 3
   },
   "file_extension": ".py",
   "mimetype": "text/x-python",
   "name": "python",
   "nbconvert_exporter": "python",
   "pygments_lexer": "ipython3",
   "version": "3.6.8"
  }
 },
 "nbformat": 4,
 "nbformat_minor": 4
}
